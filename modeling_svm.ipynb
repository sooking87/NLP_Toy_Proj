{
 "cells": [
  {
   "cell_type": "code",
   "execution_count": 2,
   "metadata": {},
   "outputs": [
    {
     "name": "stdout",
     "output_type": "stream",
     "text": [
      "^C\n",
      "Note: you may need to restart the kernel to use updated packages.\n"
     ]
    }
   ],
   "source": [
    "pip uninstall -v scikit-learn"
   ]
  },
  {
   "cell_type": "code",
   "execution_count": 3,
   "metadata": {},
   "outputs": [
    {
     "name": "stdout",
     "output_type": "stream",
     "text": [
      "Using pip 22.2.2 from c:\\Users\\user\\AppData\\Local\\Programs\\Python\\Python310\\lib\\site-packages\\pip (python 3.10)\n",
      "Requirement already satisfied: scikit-learn in c:\\users\\user\\appdata\\local\\programs\\python\\python310\\lib\\site-packages (1.0.2)\n",
      "Requirement already satisfied: scipy>=1.1.0 in c:\\users\\user\\appdata\\local\\programs\\python\\python310\\lib\\site-packages (from scikit-learn) (1.8.0)\n",
      "Requirement already satisfied: joblib>=0.11 in c:\\users\\user\\appdata\\local\\programs\\python\\python310\\lib\\site-packages (from scikit-learn) (1.1.0)\n",
      "Requirement already satisfied: numpy>=1.14.6 in c:\\users\\user\\appdata\\local\\programs\\python\\python310\\lib\\site-packages (from scikit-learn) (1.22.3)\n",
      "Requirement already satisfied: threadpoolctl>=2.0.0 in c:\\users\\user\\appdata\\local\\programs\\python\\python310\\lib\\site-packages (from scikit-learn) (3.1.0)\n",
      "Note: you may need to restart the kernel to use updated packages.\n"
     ]
    }
   ],
   "source": [
    "pip install -v scikit-learn"
   ]
  },
  {
   "cell_type": "code",
   "execution_count": 6,
   "metadata": {},
   "outputs": [],
   "source": [
    "from textblob import TextBlob\n",
    "import pandas as pd"
   ]
  },
  {
   "cell_type": "code",
   "execution_count": 3,
   "metadata": {},
   "outputs": [],
   "source": [
    "def get_polarity(lyrics):\n",
    "   return TextBlob(lyrics).sentiment.polarity"
   ]
  },
  {
   "cell_type": "code",
   "execution_count": 13,
   "metadata": {},
   "outputs": [],
   "source": [
    "df = pd.read_csv(r\"C:\\STUDY\\NLP_Toy_Proj\\pre_processing\\renew_dataset_final.csv\")\n",
    "\n",
    "for i in df.index.tolist():\n",
    "    df.loc[i, 'polarity'] = get_polarity(df.loc[i, 'lyrics'])\n",
    "\n",
    "df.to_csv(\"lyrics_polarity_dataset.csv\", index=False)"
   ]
  },
  {
   "cell_type": "code",
   "execution_count": 7,
   "metadata": {},
   "outputs": [
    {
     "name": "stdout",
     "output_type": "stream",
     "text": [
      "max_len 54194\n",
      "mean_len 768.5101591688418\n"
     ]
    },
    {
     "data": {
      "image/png": "[encoded data removed]",
      "text/plain": [
       "<Figure size 640x480 with 1 Axes>"
      ]
     },
     "metadata": {},
     "output_type": "display_data"
    }
   ],
   "source": [
    "\n",
    "import matplotlib.pyplot as plt\n",
    "import numpy as np\n",
    "\n",
    "\n",
    "df = pd.read_csv(r\"C:\\STUDY\\NLP_Toy_Proj\\lyrics_polarity_dataset.csv\")\n",
    "\n",
    "len_list = []\n",
    "for i in df.index.tolist():\n",
    "    len_list.append(len(df.loc[i, 'lyrics']))\n",
    "\n",
    "print(\"max_len\", max(len_list))\n",
    "print(\"mean_len\", sum(len_list)/len(len_list))\n",
    "\n",
    "plt.hist(len_list[0:500], bins=200)\n",
    "plt.xlabel('length of Samples')\n",
    "plt.ylabel('Number of Samples')\n",
    "plt.show()"
   ]
  },
  {
   "cell_type": "code",
   "execution_count": 16,
   "metadata": {},
   "outputs": [
    {
     "ename": "KeyError",
     "evalue": "'str_sent'",
     "output_type": "error",
     "traceback": [
      "\u001b[1;31m---------------------------------------------------------------------------\u001b[0m",
      "\u001b[1;31mKeyError\u001b[0m                                  Traceback (most recent call last)",
      "File \u001b[1;32mc:\\Users\\user\\AppData\\Local\\Programs\\Python\\Python310\\lib\\site-packages\\pandas\\core\\indexes\\base.py:3621\u001b[0m, in \u001b[0;36mIndex.get_loc\u001b[1;34m(self, key, method, tolerance)\u001b[0m\n\u001b[0;32m   3620\u001b[0m \u001b[39mtry\u001b[39;00m:\n\u001b[1;32m-> 3621\u001b[0m     \u001b[39mreturn\u001b[39;00m \u001b[39mself\u001b[39;49m\u001b[39m.\u001b[39;49m_engine\u001b[39m.\u001b[39;49mget_loc(casted_key)\n\u001b[0;32m   3622\u001b[0m \u001b[39mexcept\u001b[39;00m \u001b[39mKeyError\u001b[39;00m \u001b[39mas\u001b[39;00m err:\n",
      "File \u001b[1;32mc:\\Users\\user\\AppData\\Local\\Programs\\Python\\Python310\\lib\\site-packages\\pandas\\_libs\\index.pyx:136\u001b[0m, in \u001b[0;36mpandas._libs.index.IndexEngine.get_loc\u001b[1;34m()\u001b[0m\n",
      "File \u001b[1;32mc:\\Users\\user\\AppData\\Local\\Programs\\Python\\Python310\\lib\\site-packages\\pandas\\_libs\\index.pyx:163\u001b[0m, in \u001b[0;36mpandas._libs.index.IndexEngine.get_loc\u001b[1;34m()\u001b[0m\n",
      "File \u001b[1;32mpandas\\_libs\\hashtable_class_helper.pxi:5198\u001b[0m, in \u001b[0;36mpandas._libs.hashtable.PyObjectHashTable.get_item\u001b[1;34m()\u001b[0m\n",
      "File \u001b[1;32mpandas\\_libs\\hashtable_class_helper.pxi:5206\u001b[0m, in \u001b[0;36mpandas._libs.hashtable.PyObjectHashTable.get_item\u001b[1;34m()\u001b[0m\n",
      "\u001b[1;31mKeyError\u001b[0m: 'str_sent'",
      "\nThe above exception was the direct cause of the following exception:\n",
      "\u001b[1;31mKeyError\u001b[0m                                  Traceback (most recent call last)",
      "\u001b[1;32mc:\\STUDY\\NLP_Toy_Proj\\modeling_svm.ipynb 셀 7\u001b[0m in \u001b[0;36m<cell line: 54>\u001b[1;34m()\u001b[0m\n\u001b[0;32m     <a href='vscode-notebook-cell:/c%3A/STUDY/NLP_Toy_Proj/modeling_svm.ipynb#W6sZmlsZQ%3D%3D?line=37'>38</a>\u001b[0m df \u001b[39m=\u001b[39m pd\u001b[39m.\u001b[39mread_csv(\u001b[39mr\u001b[39m\u001b[39m\"\u001b[39m\u001b[39mC:\u001b[39m\u001b[39m\\\u001b[39m\u001b[39mSTUDY\u001b[39m\u001b[39m\\\u001b[39m\u001b[39mNLP_Toy_Proj\u001b[39m\u001b[39m\\\u001b[39m\u001b[39mlyrics_polarity_dataset.csv\u001b[39m\u001b[39m\"\u001b[39m)\n\u001b[0;32m     <a href='vscode-notebook-cell:/c%3A/STUDY/NLP_Toy_Proj/modeling_svm.ipynb#W6sZmlsZQ%3D%3D?line=39'>40</a>\u001b[0m \u001b[39m# total = []\u001b[39;00m\n\u001b[0;32m     <a href='vscode-notebook-cell:/c%3A/STUDY/NLP_Toy_Proj/modeling_svm.ipynb#W6sZmlsZQ%3D%3D?line=40'>41</a>\u001b[0m \u001b[39m# # for i in df.index.tolist():\u001b[39;00m\n\u001b[0;32m     <a href='vscode-notebook-cell:/c%3A/STUDY/NLP_Toy_Proj/modeling_svm.ipynb#W6sZmlsZQ%3D%3D?line=41'>42</a>\u001b[0m \u001b[39m# for i in range(5):\u001b[39;00m\n\u001b[1;32m   (...)\u001b[0m\n\u001b[0;32m     <a href='vscode-notebook-cell:/c%3A/STUDY/NLP_Toy_Proj/modeling_svm.ipynb#W6sZmlsZQ%3D%3D?line=50'>51</a>\u001b[0m \n\u001b[0;32m     <a href='vscode-notebook-cell:/c%3A/STUDY/NLP_Toy_Proj/modeling_svm.ipynb#W6sZmlsZQ%3D%3D?line=51'>52</a>\u001b[0m \u001b[39m# feature_df = df.drop(['neg_sentiment', 'neu_sentiment', 'pos_sentiment', 'com_sentiment', 'polarity'], axis=1, inplace=False)\u001b[39;00m\n\u001b[1;32m---> <a href='vscode-notebook-cell:/c%3A/STUDY/NLP_Toy_Proj/modeling_svm.ipynb#W6sZmlsZQ%3D%3D?line=53'>54</a>\u001b[0m X_train, X_test, y_train, y_test \u001b[39m=\u001b[39m train_test_split(df[\u001b[39m'\u001b[39m\u001b[39mlyrics\u001b[39m\u001b[39m'\u001b[39m], df[\u001b[39m'\u001b[39;49m\u001b[39mstr_sent\u001b[39;49m\u001b[39m'\u001b[39;49m], test_size\u001b[39m=\u001b[39m\u001b[39m0.25\u001b[39m, random_state\u001b[39m=\u001b[39m\u001b[39m32\u001b[39m)\n",
      "File \u001b[1;32mc:\\Users\\user\\AppData\\Local\\Programs\\Python\\Python310\\lib\\site-packages\\pandas\\core\\frame.py:3505\u001b[0m, in \u001b[0;36mDataFrame.__getitem__\u001b[1;34m(self, key)\u001b[0m\n\u001b[0;32m   3503\u001b[0m \u001b[39mif\u001b[39;00m \u001b[39mself\u001b[39m\u001b[39m.\u001b[39mcolumns\u001b[39m.\u001b[39mnlevels \u001b[39m>\u001b[39m \u001b[39m1\u001b[39m:\n\u001b[0;32m   3504\u001b[0m     \u001b[39mreturn\u001b[39;00m \u001b[39mself\u001b[39m\u001b[39m.\u001b[39m_getitem_multilevel(key)\n\u001b[1;32m-> 3505\u001b[0m indexer \u001b[39m=\u001b[39m \u001b[39mself\u001b[39;49m\u001b[39m.\u001b[39;49mcolumns\u001b[39m.\u001b[39;49mget_loc(key)\n\u001b[0;32m   3506\u001b[0m \u001b[39mif\u001b[39;00m is_integer(indexer):\n\u001b[0;32m   3507\u001b[0m     indexer \u001b[39m=\u001b[39m [indexer]\n",
      "File \u001b[1;32mc:\\Users\\user\\AppData\\Local\\Programs\\Python\\Python310\\lib\\site-packages\\pandas\\core\\indexes\\base.py:3623\u001b[0m, in \u001b[0;36mIndex.get_loc\u001b[1;34m(self, key, method, tolerance)\u001b[0m\n\u001b[0;32m   3621\u001b[0m     \u001b[39mreturn\u001b[39;00m \u001b[39mself\u001b[39m\u001b[39m.\u001b[39m_engine\u001b[39m.\u001b[39mget_loc(casted_key)\n\u001b[0;32m   3622\u001b[0m \u001b[39mexcept\u001b[39;00m \u001b[39mKeyError\u001b[39;00m \u001b[39mas\u001b[39;00m err:\n\u001b[1;32m-> 3623\u001b[0m     \u001b[39mraise\u001b[39;00m \u001b[39mKeyError\u001b[39;00m(key) \u001b[39mfrom\u001b[39;00m \u001b[39merr\u001b[39;00m\n\u001b[0;32m   3624\u001b[0m \u001b[39mexcept\u001b[39;00m \u001b[39mTypeError\u001b[39;00m:\n\u001b[0;32m   3625\u001b[0m     \u001b[39m# If we have a listlike key, _check_indexing_error will raise\u001b[39;00m\n\u001b[0;32m   3626\u001b[0m     \u001b[39m#  InvalidIndexError. Otherwise we fall through and re-raise\u001b[39;00m\n\u001b[0;32m   3627\u001b[0m     \u001b[39m#  the TypeError.\u001b[39;00m\n\u001b[0;32m   3628\u001b[0m     \u001b[39mself\u001b[39m\u001b[39m.\u001b[39m_check_indexing_error(key)\n",
      "\u001b[1;31mKeyError\u001b[0m: 'str_sent'"
     ]
    }
   ],
   "source": [
    "# from keras_preprocessing.sequence import pad_sequences\n",
    "# from gensim.models import Word2Vec\n",
    "# from gensim.models import KeyedVectors\n",
    "from sklearn.feature_extraction.text import TfidfVectorizer\n",
    "from sklearn.model_selection import train_test_split\n",
    "# import operator\n",
    "# import collections\n",
    "\n",
    "def to_list(str):\n",
    "    split_str = str.split(\" \")\n",
    "    return split_str\n",
    "\n",
    "def get_sent_cnt(data):\n",
    "    sent_cnt = []\n",
    "    neg_cnt = 0\n",
    "    pos_cnt = 0\n",
    "    neu_cnt = 0\n",
    "    for i in data.index.tolist():\n",
    "        if (float(data[i]) > float(0)):\n",
    "            pos_cnt += 1\n",
    "        elif (float(data[i]) < float(0)):\n",
    "            neg_cnt += 1\n",
    "        else:\n",
    "            neu_cnt += 1\n",
    "        \n",
    "    sent_cnt.append([\"neg_cnt\", neg_cnt])\n",
    "    sent_cnt.append([\"neu_cnt\", neu_cnt])\n",
    "    sent_cnt.append([\"pos_cnt\", pos_cnt])\n",
    "    \n",
    "    return sent_cnt\n",
    "\n",
    "def get_sent(pol):\n",
    "    if (float(pol) > 0):\n",
    "        return 1 # pos\n",
    "    return 0 # neg + neu\n",
    "\n",
    "\n",
    "df = pd.read_csv(r\"C:\\STUDY\\NLP_Toy_Proj\\lyrics_polarity_dataset.csv\")\n",
    "\n",
    "# total = []\n",
    "# # for i in df.index.tolist():\n",
    "# for i in range(5):\n",
    "#     total.append(to_list(df.loc[i, 'lyrics']))\n",
    "#     model = Word2Vec(sentences=total, window=5, min_count=0, workers=4, sg=0)\n",
    "#     print(model.wv.vectors.shape)\n",
    "#     sim_words = model.wv.most_similar('love')\n",
    "#     print(sim_words)\n",
    "    \n",
    "# for i in df.index.tolist():\n",
    "# train_data = []\n",
    "# for i in df.index.tolist():\n",
    "#     train_data.append(to_list(df.loc[i, 'lyrics']))\n",
    "    \n",
    "target_data = []\n",
    "for i in df.index.tolist():\n",
    "    df.loc[i, \"str_sent\"] = get_sent(df.loc[i, 'polarity'])\n",
    "    \n",
    "# train_df = pd.DataFrame(train_data)\n",
    "# target_df = pd.DataFrame(target_data)\n",
    "\n",
    "# feature_df = df.drop(['neg_sentiment', 'neu_sentiment', 'pos_sentiment', 'com_sentiment', 'polarity'], axis=1, inplace=False)\n",
    "\n",
    "X_train, X_test, y_train, y_test = train_test_split(df['lyrics'], df['str_sent'], test_size=0.25, random_state=32)\n",
    "\n",
    "# total = []\n",
    "\n",
    "# for i in df.index.tolist():\n",
    "# for i in range(5):\n",
    "#     total.append(to_list(df.loc[i, 'lyrics']))\n",
    "    # model = Word2Vec(sentences=total, window=5, min_count=0, workers=4, sg=0)\n",
    "    # print(model.wv.vectors.shape)\n",
    "    # sim_words = model.wv.most_similar('love')\n",
    "    # print(sim_words)\n",
    "\n",
    "\n",
    "# print(X_train)\n",
    "# print(X_train.shape)\n",
    "# print(y_train)\n",
    "# print(X_test.shape)\n",
    "# print(y_test.shape)\n",
    "# print(get_sent_cnt(y_train))\n",
    "# print(get_sent_cnt(y_test))\n",
    "# print(type(X_train.iloc[0, 0]))"
   ]
  },
  {
   "cell_type": "code",
   "execution_count": 10,
   "metadata": {},
   "outputs": [
    {
     "name": "stdout",
     "output_type": "stream",
     "text": [
      "TFIDF Vectorizer……\n"
     ]
    }
   ],
   "source": [
    "from sklearn.feature_extraction.text import TfidfVectorizer\n",
    "vectorizer= TfidfVectorizer()\n",
    "\n",
    "tf_x_train = vectorizer.fit_transform(X_train)\n",
    "tf_x_test = vectorizer.transform(X_test)\n",
    "print('TFIDF Vectorizer……')"
   ]
  },
  {
   "cell_type": "code",
   "execution_count": 11,
   "metadata": {},
   "outputs": [],
   "source": [
    "# model: SVM classification\n",
    "from sklearn.svm import LinearSVC\n",
    "clf = LinearSVC(random_state=0)\n",
    "clf.fit(tf_x_train, y_train)\n",
    "y_test_pred = clf.predict(tf_x_test)"
   ]
  },
  {
   "cell_type": "code",
   "execution_count": 12,
   "metadata": {},
   "outputs": [
    {
     "name": "stdout",
     "output_type": "stream",
     "text": [
      "{'0.0': {'precision': 0.8783702816057519, 'recall': 0.8315371525808282, 'f1-score': 0.8543123543123543, 'support': 1763}, '1.0': {'precision': 0.9076492537313433, 'recall': 0.9349775784753364, 'f1-score': 0.9211107604922688, 'support': 3122}, 'accuracy': 0.8976458546571137, 'macro avg': {'precision': 0.8930097676685476, 'recall': 0.8832573655280822, 'f1-score': 0.8877115574023116, 'support': 4885}, 'weighted avg': {'precision': 0.8970824517134482, 'recall': 0.8976458546571137, 'f1-score': 0.8970031678422813, 'support': 4885}}\n"
     ]
    }
   ],
   "source": [
    "from sklearn.metrics import classification_report\n",
    "report=classification_report(y_test, y_test_pred, output_dict=True)\n",
    "print(report)"
   ]
  },
  {
   "cell_type": "code",
   "execution_count": null,
   "metadata": {},
   "outputs": [],
   "source": []
  }
 ],
 "metadata": {
  "kernelspec": {
   "display_name": "Python 3.10.3 64-bit",
   "language": "python",
   "name": "python3"
  },
  "language_info": {
   "codemirror_mode": {
    "name": "ipython",
    "version": 3
   },
   "file_extension": ".py",
   "mimetype": "text/x-python",
   "name": "python",
   "nbconvert_exporter": "python",
   "pygments_lexer": "ipython3",
   "version": "3.10.3"
  },
  "orig_nbformat": 4,
  "vscode": {
   "interpreter": {
    "hash": "fb4569285eef3a3450cb62085a5b1e0da4bce0af555edc33dcf29baf3acc1368"
   }
  }
 },
 "nbformat": 4,
 "nbformat_minor": 2
}
