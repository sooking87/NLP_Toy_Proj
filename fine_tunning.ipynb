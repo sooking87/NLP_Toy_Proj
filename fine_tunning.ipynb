{
  "cells": [
    {
      "cell_type": "markdown",
      "metadata": {
        "colab_type": "text",
        "id": "view-in-github"
      },
      "source": [
        "<a href=\"https://colab.research.google.com/github/sooking87/NLP_Toy_Proj/blob/master/fine_tunning.ipynb\" target=\"_parent\"><img src=\"https://colab.research.google.com/assets/colab-badge.svg\" alt=\"Open In Colab\"/></a>"
      ]
    },
    {
      "cell_type": "markdown",
      "metadata": {
        "id": "L3N-8whfwjYB"
      },
      "source": [
        "# Dataset\n",
        "\n",
        "Genius의 search_song 메서드를 통해서 가사를 불러왔다. 해당 데이터셋(full_lyrics_polarity_dataset.csv) artist, title, year, lyrics, neg_sentiment, neu_sentiment, pos_sentiment, com_sentiment, polarity, textblob_pol 칼럼으로 구성되어 있다. \n",
        " \n",
        "\n",
        "- `lyrics`: 원본 가사(토큰화 전 가사)\n",
        "\n",
        "- `polarity`: vader을 통해서 com_sentiment >= 0.05 라면 pos, 아니라면 neg 로 분리하였다. \n",
        "\n",
        "- `textblob_pol`: textblob에서 제공하는 polarity 점수를 사용하였다. "
      ]
    },
    {
      "cell_type": "markdown",
      "metadata": {
        "id": "aU68X5Jyyit4"
      },
      "source": [
        "## 1. genius API 사용해서 가사 불러오기 + VADER 사용해서 감정 점수 구하기"
      ]
    },
    {
      "cell_type": "code",
      "execution_count": null,
      "metadata": {
        "colab": {
          "base_uri": "https://localhost:8080/"
        },
        "id": "4QZg-yAry91G",
        "outputId": "662d9aeb-5b9b-4ee7-8334-886402592d52"
      },
      "outputs": [
        {
          "name": "stdout",
          "output_type": "stream",
          "text": [
            "Looking in indexes: https://pypi.org/simple, https://us-python.pkg.dev/colab-wheels/public/simple/\n",
            "Collecting lyricsgenius\n",
            "  Downloading lyricsgenius-3.0.1-py3-none-any.whl (59 kB)\n",
            "\u001b[K     |████████████████████████████████| 59 kB 4.6 MB/s \n",
            "\u001b[?25hRequirement already satisfied: beautifulsoup4>=4.6.0 in /usr/local/lib/python3.7/dist-packages (from lyricsgenius) (4.6.3)\n",
            "Requirement already satisfied: requests>=2.20.0 in /usr/local/lib/python3.7/dist-packages (from lyricsgenius) (2.23.0)\n",
            "Requirement already satisfied: idna<3,>=2.5 in /usr/local/lib/python3.7/dist-packages (from requests>=2.20.0->lyricsgenius) (2.10)\n",
            "Requirement already satisfied: urllib3!=1.25.0,!=1.25.1,<1.26,>=1.21.1 in /usr/local/lib/python3.7/dist-packages (from requests>=2.20.0->lyricsgenius) (1.24.3)\n",
            "Requirement already satisfied: certifi>=2017.4.17 in /usr/local/lib/python3.7/dist-packages (from requests>=2.20.0->lyricsgenius) (2022.6.15)\n",
            "Requirement already satisfied: chardet<4,>=3.0.2 in /usr/local/lib/python3.7/dist-packages (from requests>=2.20.0->lyricsgenius) (3.0.4)\n",
            "Installing collected packages: lyricsgenius\n",
            "Successfully installed lyricsgenius-3.0.1\n"
          ]
        }
      ],
      "source": [
        "!pip install lyricsgenius"
      ]
    },
    {
      "cell_type": "code",
      "execution_count": null,
      "metadata": {
        "colab": {
          "base_uri": "https://localhost:8080/"
        },
        "id": "1bvJx0N2zBSi",
        "outputId": "6d9e41ab-80cb-409f-a007-362ffddfe1cb"
      },
      "outputs": [
        {
          "name": "stdout",
          "output_type": "stream",
          "text": [
            "Looking in indexes: https://pypi.org/simple, https://us-python.pkg.dev/colab-wheels/public/simple/\n",
            "Collecting vaderSentiment\n",
            "  Downloading vaderSentiment-3.3.2-py2.py3-none-any.whl (125 kB)\n",
            "\u001b[K     |████████████████████████████████| 125 kB 13.1 MB/s \n",
            "\u001b[?25hRequirement already satisfied: requests in /usr/local/lib/python3.7/dist-packages (from vaderSentiment) (2.23.0)\n",
            "Requirement already satisfied: idna<3,>=2.5 in /usr/local/lib/python3.7/dist-packages (from requests->vaderSentiment) (2.10)\n",
            "Requirement already satisfied: chardet<4,>=3.0.2 in /usr/local/lib/python3.7/dist-packages (from requests->vaderSentiment) (3.0.4)\n",
            "Requirement already satisfied: urllib3!=1.25.0,!=1.25.1,<1.26,>=1.21.1 in /usr/local/lib/python3.7/dist-packages (from requests->vaderSentiment) (1.24.3)\n",
            "Requirement already satisfied: certifi>=2017.4.17 in /usr/local/lib/python3.7/dist-packages (from requests->vaderSentiment) (2022.6.15)\n",
            "Installing collected packages: vaderSentiment\n",
            "Successfully installed vaderSentiment-3.3.2\n"
          ]
        }
      ],
      "source": [
        "!pip install vaderSentiment"
      ]
    },
    {
      "cell_type": "code",
      "execution_count": null,
      "metadata": {
        "id": "GuX3q_mXyjPu"
      },
      "outputs": [],
      "source": [
        "import lyricsgenius\n",
        "from vaderSentiment.vaderSentiment import SentimentIntensityAnalyzer\n",
        "import pandas as pd\n",
        "\n",
        "# Function to return song lyrics\n",
        "def get_lyrics(title, artist):\n",
        "  try:\n",
        "      return genius.search_song(title, artist).lyrics\n",
        "  except:\n",
        "      return 'not found'\n",
        "\n",
        "# Function to return sentiment score of each song\n",
        "def get_lyric_sentiment(lyrics):\n",
        "  sentiment = sid_obj.polarity_scores(lyrics)\n",
        "  return sentiment\n",
        "\n",
        "\n",
        "''' 원본 파일에서 가수, 제목을 통해서 가사 + 감정 점수 불러오기'''\n",
        "\n",
        "genius = lyricsgenius.Genius(\n",
        "    \"DuO42xKa4Ts70InLe_Y_strEpeL_CxowzCtXyAMaiNlbAOVOTfFpt2q5FdP4lo_U\")\n",
        "sid_obj = SentimentIntensityAnalyzer()\n",
        "\n",
        "lyrics_sentiment_dataset = pd.read_csv('./tcc_ceds_music.csv', encoding='cp949')\n",
        "lyrics_sentiment_dataset = lyrics_sentiment_dataset.drop(\n",
        "    ['Unnamed: 0', 'genre',\n",
        "    'lyrics', 'len', 'dating', 'violence', 'world/life', 'night/time',\n",
        "    'shake the audience', 'family/gospel', 'romantic', 'communication',\n",
        "    'obscene', 'music', 'movement/places', 'light/visual perceptions',\n",
        "    'family/spiritual', 'like/girls', 'sadness', 'feelings', 'danceability',\n",
        "    'loudness', 'acousticness', 'instrumentalness', 'valence', 'energy',\n",
        "    'topic', 'age'], axis=1)\n",
        "\n",
        "lyrics_sentiment_dataset.drop_duplicates(subset='track_name', inplace=True)\n",
        "lyrics_sentiment_dataset.reset_index(drop=True)\n",
        "\n",
        "# 노래 가사 불러오기\n",
        "lyrics = lyrics_sentiment_dataset.apply(lambda row: get_lyrics(\n",
        "    row['track_name'], row['artist_name']), axis=1)\n",
        "lyrics_sentiment_dataset['lyrics'] = lyrics\n",
        "\n",
        "# not found 제거\n",
        "lyrics_sentiment_dataset = lyrics_sentiment_dataset.drop(\n",
        "    lyrics_sentiment_dataset[lyrics_sentiment_dataset['lyrics'] == 'not found'].index)\n",
        "\n",
        "# Use get_lyric_sentiment to get sentiment score for all the song lyrics\n",
        "sentiment = lyrics_sentiment_dataset.apply(\n",
        "    lambda row: get_lyric_sentiment(row['lyrics']), axis=1)\n",
        "\n",
        "for i in lyrics_sentiment_dataset.index.tolist():\n",
        "    lyrics_sentiment_dataset.loc[i, 'neg_sentiment'] = sentiment[i]['neg']\n",
        "    lyrics_sentiment_dataset.loc[i, 'neu_sentiment'] = sentiment[i]['neu']\n",
        "    lyrics_sentiment_dataset.loc[i, 'pos_sentiment'] = sentiment[i]['pos']\n",
        "    lyrics_sentiment_dataset.loc[i, 'com_sentiment'] = sentiment[i]['compound']\n",
        "\n",
        "lyrics_sentiment_dataset.to_csv(\"lyrics_sentiment_dataset.csv\", index=False)"
      ]
    },
    {
      "cell_type": "markdown",
      "metadata": {
        "id": "4_-C-w2Mz1Xb"
      },
      "source": [
        "## 2. 감정 점수가 하나라도 0점이거나 해당 노래에 맞지 않는 가사인 경우 지우기"
      ]
    },
    {
      "cell_type": "code",
      "execution_count": null,
      "metadata": {
        "id": "HYLxMDONz35R"
      },
      "outputs": [],
      "source": [
        "import pandas as pd\n",
        "\n",
        "df = pd.read_csv('./lyrics_sentiment_dataset.csv')\n",
        "\n",
        "# 하나라도 0점이면 out\n",
        "filtered_df = df[(df['neg_sentiment'] != 0.000) & (df['neu_sentiment'] != 0.000) & (df['pos_sentiment'] != 0.000) & (df['com_sentiment'] != 0.000)]\n",
        "\n",
        "# lyrics_len column 추가 -> 길이순 대로 정렬 -> 너무 긴거는 지우기\n",
        "get_len = []\n",
        "for i in filtered_df.index.tolist():\n",
        "    length = len(filtered_df.loc[i, 'lyrics'])\n",
        "    filtered_df.loc[i, 'lyrics_len'] = length\n",
        "\n",
        "# lyrics_len 내림차순 정렬\n",
        "filtered_df.sort_values('lyrics_len', ascending=False, inplace=True)\n",
        "\n",
        "# 어디까지는 \"무조건\" 지워야하는지 확인 -> filtered_df 기준 인덱스 90까지 지워야됨\n",
        "fin_filtered_df = filtered_df.iloc[91:, 0:]\n",
        "\n",
        "fin_filtered_df.to_csv(\"full_lyrics_sentiment_dataset.csv\")"
      ]
    },
    {
      "cell_type": "markdown",
      "metadata": {
        "id": "Z4CVdPfSO6t3"
      },
      "source": [
        "## 3. com_sentiment, textblob 을 이용해서 polarity 구하기\n",
        "\n",
        "- `polarity`: vader을 통해서 com_sentiment >= 0.05 라면 pos, 아니라면 neg 로 분리하였다. \n",
        "\n",
        "- `textblob_pol`: textblob에서 제공하는 polarity 점수를 사용하였다. "
      ]
    },
    {
      "cell_type": "code",
      "execution_count": 1,
      "metadata": {
        "colab": {
          "base_uri": "https://localhost:8080/"
        },
        "id": "l1Qe3Xv3PH9P",
        "outputId": "3ef82757-df07-48c9-affe-6301aabf1604"
      },
      "outputs": [
        {
          "name": "stdout",
          "output_type": "stream",
          "text": [
            "Looking in indexes: https://pypi.org/simple, https://us-python.pkg.dev/colab-wheels/public/simple/\n",
            "Collecting vaderSentiment\n",
            "  Downloading vaderSentiment-3.3.2-py2.py3-none-any.whl (125 kB)\n",
            "\u001b[?25l\r\u001b[K     |██▋                             | 10 kB 29.7 MB/s eta 0:00:01\r\u001b[K     |█████▏                          | 20 kB 20.8 MB/s eta 0:00:01\r\u001b[K     |███████▉                        | 30 kB 26.7 MB/s eta 0:00:01\r\u001b[K     |██████████▍                     | 40 kB 19.3 MB/s eta 0:00:01\r\u001b[K     |█████████████                   | 51 kB 16.9 MB/s eta 0:00:01\r\u001b[K     |███████████████▋                | 61 kB 19.3 MB/s eta 0:00:01\r\u001b[K     |██████████████████▏             | 71 kB 20.4 MB/s eta 0:00:01\r\u001b[K     |████████████████████▉           | 81 kB 21.8 MB/s eta 0:00:01\r\u001b[K     |███████████████████████▍        | 92 kB 23.6 MB/s eta 0:00:01\r\u001b[K     |██████████████████████████      | 102 kB 24.3 MB/s eta 0:00:01\r\u001b[K     |████████████████████████████▋   | 112 kB 24.3 MB/s eta 0:00:01\r\u001b[K     |███████████████████████████████▏| 122 kB 24.3 MB/s eta 0:00:01\r\u001b[K     |████████████████████████████████| 125 kB 24.3 MB/s \n",
            "\u001b[?25hRequirement already satisfied: requests in /usr/local/lib/python3.7/dist-packages (from vaderSentiment) (2.23.0)\n",
            "Requirement already satisfied: chardet<4,>=3.0.2 in /usr/local/lib/python3.7/dist-packages (from requests->vaderSentiment) (3.0.4)\n",
            "Requirement already satisfied: idna<3,>=2.5 in /usr/local/lib/python3.7/dist-packages (from requests->vaderSentiment) (2.10)\n",
            "Requirement already satisfied: certifi>=2017.4.17 in /usr/local/lib/python3.7/dist-packages (from requests->vaderSentiment) (2022.6.15)\n",
            "Requirement already satisfied: urllib3!=1.25.0,!=1.25.1,<1.26,>=1.21.1 in /usr/local/lib/python3.7/dist-packages (from requests->vaderSentiment) (1.24.3)\n",
            "Installing collected packages: vaderSentiment\n",
            "Successfully installed vaderSentiment-3.3.2\n"
          ]
        }
      ],
      "source": [
        "!pip install vaderSentiment"
      ]
    },
    {
      "cell_type": "code",
      "execution_count": 2,
      "metadata": {
        "id": "lccPtRpUPvEN"
      },
      "outputs": [],
      "source": [
        "from vaderSentiment.vaderSentiment import SentimentIntensityAnalyzer\n",
        "from textblob import TextBlob\n",
        "\n",
        "sid_obj = SentimentIntensityAnalyzer()\n",
        "\n",
        "def sent_textblob_polarity(lyrics):\n",
        "    polarity_score = TextBlob(lyrics).sentiment.subjectivity\n",
        "    if float(polarity_score) > 0:\n",
        "      return 1\n",
        "    return 0\n",
        "\n",
        "def sent_vader_compound(com):\n",
        "  if float(com) >= 0.05:\n",
        "    return 1\n",
        "  return 0\n",
        "\n",
        "for i in df.index.tolist():\n",
        "  lyrics = df.loc[i, \"lyrics\"]\n",
        "  df.loc[i, \"polarity\"] = sent_vader_compound(df.loc[i, \"com_sentiment\"])\n",
        "  df.loc[i, \"textblob_pol\"] = sent_textblob_polarity(lyrics)\n",
        "\n",
        "df.to_csv(\"full_lyrics_polarity_dataset.csv\", index=False)"
      ]
    },
    {
      "cell_type": "markdown",
      "metadata": {
        "id": "cfwa8f2_1SWE"
      },
      "source": [
        "## 3. 데이터 토큰화"
      ]
    },
    {
      "cell_type": "code",
      "execution_count": 5,
      "metadata": {
        "colab": {
          "base_uri": "https://localhost:8080/"
        },
        "id": "ek7gpmb61VJ2",
        "outputId": "79a39e6b-c227-4f52-8b1f-291197dd1f6a"
      },
      "outputs": [
        {
          "name": "stdout",
          "output_type": "stream",
          "text": [
            "Looking in indexes: https://pypi.org/simple, https://us-python.pkg.dev/colab-wheels/public/simple/\n",
            "Requirement already satisfied: keras in /usr/local/lib/python3.7/dist-packages (2.8.0)\n"
          ]
        }
      ],
      "source": [
        "pip install keras"
      ]
    },
    {
      "cell_type": "code",
      "execution_count": 4,
      "metadata": {
        "id": "8KWUAzlZ1bw9"
      },
      "outputs": [],
      "source": [
        "import pandas as pd\n",
        "from nltk import sent_tokenize\n",
        "import tensorflow.keras as tf\n",
        "from nltk.corpus import stopwords\n",
        "from nltk.stem import WordNetLemmatizer\n",
        "import nltk\n",
        "from vaderSentiment.vaderSentiment import SentimentIntensityAnalyzer\n",
        "import re"
      ]
    },
    {
      "cell_type": "code",
      "execution_count": null,
      "metadata": {
        "id": "oY6vleu8Qo5l"
      },
      "outputs": [],
      "source": [
        "new_stopwords = stopwords.words('english')\n",
        "add_stopwords = [\"[\", \"]\", \"(\", \")\", \",\", \"lyrics\",\n",
        "                 \"chorus\", \"!\", \"?\", \"``\", \"oh\", \"ha\", \"ah\", \"-\", \"yo\", \"yeah\", \"uh\", \"uhh\", \":\"]\n",
        "new_stopwords.extend(add_stopwords)\n",
        "nltk.download('omw-1.4')\n",
        "nltk.download('wordnet')\n",
        "text_to_word_sequence = tf.keras.preprocessing.text.text_to_word_sequence"
      ]
    },
    {
      "cell_type": "code",
      "execution_count": null,
      "metadata": {
        "id": "RTobTGefQuj9"
      },
      "outputs": [],
      "source": [
        "# 쥬피터에 코드있음"
      ]
    },
    {
      "cell_type": "markdown",
      "metadata": {
        "id": "_FS5zjMzaqMe"
      },
      "source": [
        "# Default\n",
        "\n",
        "BERT 모델을 사용하기 위해서 토큰화 전 원본 가사가 있는 파일을 사용한다. "
      ]
    },
    {
      "cell_type": "code",
      "execution_count": 6,
      "metadata": {
        "colab": {
          "base_uri": "https://localhost:8080/"
        },
        "id": "cY3cgr-Bas6t",
        "outputId": "df527a27-fd7c-4903-c308-9ad4bbb302ed"
      },
      "outputs": [
        {
          "name": "stdout",
          "output_type": "stream",
          "text": [
            "Looking in indexes: https://pypi.org/simple, https://us-python.pkg.dev/colab-wheels/public/simple/\n",
            "Collecting transformers\n",
            "  Downloading transformers-4.21.3-py3-none-any.whl (4.7 MB)\n",
            "\u001b[K     |████████████████████████████████| 4.7 MB 25.3 MB/s \n",
            "\u001b[?25hRequirement already satisfied: requests in /usr/local/lib/python3.7/dist-packages (from transformers) (2.23.0)\n",
            "Requirement already satisfied: tqdm>=4.27 in /usr/local/lib/python3.7/dist-packages (from transformers) (4.64.0)\n",
            "Requirement already satisfied: regex!=2019.12.17 in /usr/local/lib/python3.7/dist-packages (from transformers) (2022.6.2)\n",
            "Requirement already satisfied: importlib-metadata in /usr/local/lib/python3.7/dist-packages (from transformers) (4.12.0)\n",
            "Requirement already satisfied: numpy>=1.17 in /usr/local/lib/python3.7/dist-packages (from transformers) (1.21.6)\n",
            "Collecting huggingface-hub<1.0,>=0.1.0\n",
            "  Downloading huggingface_hub-0.9.1-py3-none-any.whl (120 kB)\n",
            "\u001b[K     |████████████████████████████████| 120 kB 65.8 MB/s \n",
            "\u001b[?25hRequirement already satisfied: pyyaml>=5.1 in /usr/local/lib/python3.7/dist-packages (from transformers) (6.0)\n",
            "Requirement already satisfied: packaging>=20.0 in /usr/local/lib/python3.7/dist-packages (from transformers) (21.3)\n",
            "Requirement already satisfied: filelock in /usr/local/lib/python3.7/dist-packages (from transformers) (3.8.0)\n",
            "Collecting tokenizers!=0.11.3,<0.13,>=0.11.1\n",
            "  Downloading tokenizers-0.12.1-cp37-cp37m-manylinux_2_12_x86_64.manylinux2010_x86_64.whl (6.6 MB)\n",
            "\u001b[K     |████████████████████████████████| 6.6 MB 55.5 MB/s \n",
            "\u001b[?25hRequirement already satisfied: typing-extensions>=3.7.4.3 in /usr/local/lib/python3.7/dist-packages (from huggingface-hub<1.0,>=0.1.0->transformers) (4.1.1)\n",
            "Requirement already satisfied: pyparsing!=3.0.5,>=2.0.2 in /usr/local/lib/python3.7/dist-packages (from packaging>=20.0->transformers) (3.0.9)\n",
            "Requirement already satisfied: zipp>=0.5 in /usr/local/lib/python3.7/dist-packages (from importlib-metadata->transformers) (3.8.1)\n",
            "Requirement already satisfied: chardet<4,>=3.0.2 in /usr/local/lib/python3.7/dist-packages (from requests->transformers) (3.0.4)\n",
            "Requirement already satisfied: idna<3,>=2.5 in /usr/local/lib/python3.7/dist-packages (from requests->transformers) (2.10)\n",
            "Requirement already satisfied: certifi>=2017.4.17 in /usr/local/lib/python3.7/dist-packages (from requests->transformers) (2022.6.15)\n",
            "Requirement already satisfied: urllib3!=1.25.0,!=1.25.1,<1.26,>=1.21.1 in /usr/local/lib/python3.7/dist-packages (from requests->transformers) (1.24.3)\n",
            "Installing collected packages: tokenizers, huggingface-hub, transformers\n",
            "Successfully installed huggingface-hub-0.9.1 tokenizers-0.12.1 transformers-4.21.3\n"
          ]
        }
      ],
      "source": [
        "!pip install transformers"
      ]
    },
    {
      "cell_type": "markdown",
      "metadata": {
        "id": "ytC8UJzuYGMb"
      },
      "source": [
        "# 데이터 불러오기\n",
        "\n",
        "\n",
        "\n"
      ]
    },
    {
      "cell_type": "code",
      "execution_count": null,
      "metadata": {
        "colab": {
          "base_uri": "https://localhost:8080/",
          "height": 554
        },
        "id": "vS7V4c4AWHJb",
        "outputId": "9aa90522-0c32-4cc8-90dc-254bd7124429"
      },
      "outputs": [
        {
          "data": {
            "text/html": [
              "\n",
              "  <div id=\"df-b50f8a90-08f4-497c-a6ce-cdd3a8e48d3f\">\n",
              "    <div class=\"colab-df-container\">\n",
              "      <div>\n",
              "<style scoped>\n",
              "    .dataframe tbody tr th:only-of-type {\n",
              "        vertical-align: middle;\n",
              "    }\n",
              "\n",
              "    .dataframe tbody tr th {\n",
              "        vertical-align: top;\n",
              "    }\n",
              "\n",
              "    .dataframe thead th {\n",
              "        text-align: right;\n",
              "    }\n",
              "</style>\n",
              "<table border=\"1\" class=\"dataframe\">\n",
              "  <thead>\n",
              "    <tr style=\"text-align: right;\">\n",
              "      <th></th>\n",
              "      <th>Unnamed: 0</th>\n",
              "      <th>artist</th>\n",
              "      <th>title</th>\n",
              "      <th>year</th>\n",
              "      <th>lyrics</th>\n",
              "      <th>neg_sentiment</th>\n",
              "      <th>neu_sentiment</th>\n",
              "      <th>pos_sentiment</th>\n",
              "      <th>com_sentiment</th>\n",
              "      <th>polarity</th>\n",
              "      <th>textblob_pol</th>\n",
              "    </tr>\n",
              "  </thead>\n",
              "  <tbody>\n",
              "    <tr>\n",
              "      <th>0</th>\n",
              "      <td>0</td>\n",
              "      <td>frankie laine</td>\n",
              "      <td>i believe</td>\n",
              "      <td>1950</td>\n",
              "      <td>I Believe Lyrics\\nI believe for every drop of ...</td>\n",
              "      <td>0.089</td>\n",
              "      <td>0.879</td>\n",
              "      <td>0.032</td>\n",
              "      <td>-0.7506</td>\n",
              "      <td>0.0</td>\n",
              "      <td>1.0</td>\n",
              "    </tr>\n",
              "    <tr>\n",
              "      <th>1</th>\n",
              "      <td>1</td>\n",
              "      <td>johnnie ray</td>\n",
              "      <td>cry</td>\n",
              "      <td>1950</td>\n",
              "      <td>Cry Lyrics\\nOoh-wah\\nOoh-wah\\nOoh-wah\\n\\n\\nIf ...</td>\n",
              "      <td>0.110</td>\n",
              "      <td>0.772</td>\n",
              "      <td>0.118</td>\n",
              "      <td>0.2732</td>\n",
              "      <td>1.0</td>\n",
              "      <td>1.0</td>\n",
              "    </tr>\n",
              "    <tr>\n",
              "      <th>2</th>\n",
              "      <td>2</td>\n",
              "      <td>p?rez prado</td>\n",
              "      <td>patricia</td>\n",
              "      <td>1950</td>\n",
              "      <td>Patricia LyricsKiss her and your lips will alw...</td>\n",
              "      <td>0.029</td>\n",
              "      <td>0.747</td>\n",
              "      <td>0.224</td>\n",
              "      <td>0.9807</td>\n",
              "      <td>1.0</td>\n",
              "      <td>1.0</td>\n",
              "    </tr>\n",
              "    <tr>\n",
              "      <th>3</th>\n",
              "      <td>3</td>\n",
              "      <td>lefty frizzell</td>\n",
              "      <td>if you've got the money i've got the time</td>\n",
              "      <td>1950</td>\n",
              "      <td>If You’ve Got The Money I’ve Got The Time Lyri...</td>\n",
              "      <td>0.038</td>\n",
              "      <td>0.920</td>\n",
              "      <td>0.042</td>\n",
              "      <td>0.0112</td>\n",
              "      <td>0.0</td>\n",
              "      <td>1.0</td>\n",
              "    </tr>\n",
              "    <tr>\n",
              "      <th>4</th>\n",
              "      <td>4</td>\n",
              "      <td>lefty frizzell</td>\n",
              "      <td>i want to be with you always</td>\n",
              "      <td>1950</td>\n",
              "      <td>I Want To Be With You Always Lyrics\\nI lose my...</td>\n",
              "      <td>0.074</td>\n",
              "      <td>0.702</td>\n",
              "      <td>0.224</td>\n",
              "      <td>0.9835</td>\n",
              "      <td>1.0</td>\n",
              "      <td>1.0</td>\n",
              "    </tr>\n",
              "    <tr>\n",
              "      <th>...</th>\n",
              "      <td>...</td>\n",
              "      <td>...</td>\n",
              "      <td>...</td>\n",
              "      <td>...</td>\n",
              "      <td>...</td>\n",
              "      <td>...</td>\n",
              "      <td>...</td>\n",
              "      <td>...</td>\n",
              "      <td>...</td>\n",
              "      <td>...</td>\n",
              "      <td>...</td>\n",
              "    </tr>\n",
              "    <tr>\n",
              "      <th>21739</th>\n",
              "      <td>21739</td>\n",
              "      <td>mack 10</td>\n",
              "      <td>10 million ways</td>\n",
              "      <td>2019</td>\n",
              "      <td>10 Million Ways Lyrics\\nCause if you fuck with...</td>\n",
              "      <td>0.133</td>\n",
              "      <td>0.807</td>\n",
              "      <td>0.059</td>\n",
              "      <td>-0.9936</td>\n",
              "      <td>0.0</td>\n",
              "      <td>1.0</td>\n",
              "    </tr>\n",
              "    <tr>\n",
              "      <th>21740</th>\n",
              "      <td>21740</td>\n",
              "      <td>m.o.p.</td>\n",
              "      <td>ante up (robbin hoodz theory)</td>\n",
              "      <td>2019</td>\n",
              "      <td>Ante Up \\nMotherfucker!\\nYeah!23Embed</td>\n",
              "      <td>0.180</td>\n",
              "      <td>0.730</td>\n",
              "      <td>0.090</td>\n",
              "      <td>-0.9972</td>\n",
              "      <td>0.0</td>\n",
              "      <td>0.0</td>\n",
              "    </tr>\n",
              "    <tr>\n",
              "      <th>21741</th>\n",
              "      <td>21741</td>\n",
              "      <td>nine</td>\n",
              "      <td>whutcha want?</td>\n",
              "      <td>2019</td>\n",
              "      <td>Whutcha Want? Lyrics\\nI gets banned if I do ge...</td>\n",
              "      <td>0.101</td>\n",
              "      <td>0.782</td>\n",
              "      <td>0.117</td>\n",
              "      <td>-0.7261</td>\n",
              "      <td>0.0</td>\n",
              "      <td>1.0</td>\n",
              "    </tr>\n",
              "    <tr>\n",
              "      <th>21742</th>\n",
              "      <td>21742</td>\n",
              "      <td>will smith</td>\n",
              "      <td>switch</td>\n",
              "      <td>2019</td>\n",
              "      <td>Switch Lyrics\\nYo mic check, mic check, yeah h...</td>\n",
              "      <td>0.041</td>\n",
              "      <td>0.888</td>\n",
              "      <td>0.071</td>\n",
              "      <td>0.9630</td>\n",
              "      <td>1.0</td>\n",
              "      <td>1.0</td>\n",
              "    </tr>\n",
              "    <tr>\n",
              "      <th>21743</th>\n",
              "      <td>21743</td>\n",
              "      <td>jeezy</td>\n",
              "      <td>r.i.p.</td>\n",
              "      <td>2019</td>\n",
              "      <td>R.I.P. Lyrics\\nR.I.P we just killed the club\\n...</td>\n",
              "      <td>0.193</td>\n",
              "      <td>0.762</td>\n",
              "      <td>0.046</td>\n",
              "      <td>-0.9984</td>\n",
              "      <td>0.0</td>\n",
              "      <td>1.0</td>\n",
              "    </tr>\n",
              "  </tbody>\n",
              "</table>\n",
              "<p>21744 rows × 11 columns</p>\n",
              "</div>\n",
              "      <button class=\"colab-df-convert\" onclick=\"convertToInteractive('df-b50f8a90-08f4-497c-a6ce-cdd3a8e48d3f')\"\n",
              "              title=\"Convert this dataframe to an interactive table.\"\n",
              "              style=\"display:none;\">\n",
              "        \n",
              "  <svg xmlns=\"http://www.w3.org/2000/svg\" height=\"24px\"viewBox=\"0 0 24 24\"\n",
              "       width=\"24px\">\n",
              "    <path d=\"M0 0h24v24H0V0z\" fill=\"none\"/>\n",
              "    <path d=\"M18.56 5.44l.94 2.06.94-2.06 2.06-.94-2.06-.94-.94-2.06-.94 2.06-2.06.94zm-11 1L8.5 8.5l.94-2.06 2.06-.94-2.06-.94L8.5 2.5l-.94 2.06-2.06.94zm10 10l.94 2.06.94-2.06 2.06-.94-2.06-.94-.94-2.06-.94 2.06-2.06.94z\"/><path d=\"M17.41 7.96l-1.37-1.37c-.4-.4-.92-.59-1.43-.59-.52 0-1.04.2-1.43.59L10.3 9.45l-7.72 7.72c-.78.78-.78 2.05 0 2.83L4 21.41c.39.39.9.59 1.41.59.51 0 1.02-.2 1.41-.59l7.78-7.78 2.81-2.81c.8-.78.8-2.07 0-2.86zM5.41 20L4 18.59l7.72-7.72 1.47 1.35L5.41 20z\"/>\n",
              "  </svg>\n",
              "      </button>\n",
              "      \n",
              "  <style>\n",
              "    .colab-df-container {\n",
              "      display:flex;\n",
              "      flex-wrap:wrap;\n",
              "      gap: 12px;\n",
              "    }\n",
              "\n",
              "    .colab-df-convert {\n",
              "      background-color: #E8F0FE;\n",
              "      border: none;\n",
              "      border-radius: 50%;\n",
              "      cursor: pointer;\n",
              "      display: none;\n",
              "      fill: #1967D2;\n",
              "      height: 32px;\n",
              "      padding: 0 0 0 0;\n",
              "      width: 32px;\n",
              "    }\n",
              "\n",
              "    .colab-df-convert:hover {\n",
              "      background-color: #E2EBFA;\n",
              "      box-shadow: 0px 1px 2px rgba(60, 64, 67, 0.3), 0px 1px 3px 1px rgba(60, 64, 67, 0.15);\n",
              "      fill: #174EA6;\n",
              "    }\n",
              "\n",
              "    [theme=dark] .colab-df-convert {\n",
              "      background-color: #3B4455;\n",
              "      fill: #D2E3FC;\n",
              "    }\n",
              "\n",
              "    [theme=dark] .colab-df-convert:hover {\n",
              "      background-color: #434B5C;\n",
              "      box-shadow: 0px 1px 3px 1px rgba(0, 0, 0, 0.15);\n",
              "      filter: drop-shadow(0px 1px 2px rgba(0, 0, 0, 0.3));\n",
              "      fill: #FFFFFF;\n",
              "    }\n",
              "  </style>\n",
              "\n",
              "      <script>\n",
              "        const buttonEl =\n",
              "          document.querySelector('#df-b50f8a90-08f4-497c-a6ce-cdd3a8e48d3f button.colab-df-convert');\n",
              "        buttonEl.style.display =\n",
              "          google.colab.kernel.accessAllowed ? 'block' : 'none';\n",
              "\n",
              "        async function convertToInteractive(key) {\n",
              "          const element = document.querySelector('#df-b50f8a90-08f4-497c-a6ce-cdd3a8e48d3f');\n",
              "          const dataTable =\n",
              "            await google.colab.kernel.invokeFunction('convertToInteractive',\n",
              "                                                     [key], {});\n",
              "          if (!dataTable) return;\n",
              "\n",
              "          const docLinkHtml = 'Like what you see? Visit the ' +\n",
              "            '<a target=\"_blank\" href=https://colab.research.google.com/notebooks/data_table.ipynb>data table notebook</a>'\n",
              "            + ' to learn more about interactive tables.';\n",
              "          element.innerHTML = '';\n",
              "          dataTable['output_type'] = 'display_data';\n",
              "          await google.colab.output.renderOutput(dataTable, element);\n",
              "          const docLink = document.createElement('div');\n",
              "          docLink.innerHTML = docLinkHtml;\n",
              "          element.appendChild(docLink);\n",
              "        }\n",
              "      </script>\n",
              "    </div>\n",
              "  </div>\n",
              "  "
            ],
            "text/plain": [
              "       Unnamed: 0          artist                                      title  \\\n",
              "0               0   frankie laine                                  i believe   \n",
              "1               1     johnnie ray                                        cry   \n",
              "2               2     p?rez prado                                   patricia   \n",
              "3               3  lefty frizzell  if you've got the money i've got the time   \n",
              "4               4  lefty frizzell               i want to be with you always   \n",
              "...           ...             ...                                        ...   \n",
              "21739       21739         mack 10                            10 million ways   \n",
              "21740       21740          m.o.p.              ante up (robbin hoodz theory)   \n",
              "21741       21741            nine                              whutcha want?   \n",
              "21742       21742      will smith                                     switch   \n",
              "21743       21743           jeezy                                     r.i.p.   \n",
              "\n",
              "       year                                             lyrics  neg_sentiment  \\\n",
              "0      1950  I Believe Lyrics\\nI believe for every drop of ...          0.089   \n",
              "1      1950  Cry Lyrics\\nOoh-wah\\nOoh-wah\\nOoh-wah\\n\\n\\nIf ...          0.110   \n",
              "2      1950  Patricia LyricsKiss her and your lips will alw...          0.029   \n",
              "3      1950  If You’ve Got The Money I’ve Got The Time Lyri...          0.038   \n",
              "4      1950  I Want To Be With You Always Lyrics\\nI lose my...          0.074   \n",
              "...     ...                                                ...            ...   \n",
              "21739  2019  10 Million Ways Lyrics\\nCause if you fuck with...          0.133   \n",
              "21740  2019              Ante Up \\nMotherfucker!\\nYeah!23Embed          0.180   \n",
              "21741  2019  Whutcha Want? Lyrics\\nI gets banned if I do ge...          0.101   \n",
              "21742  2019  Switch Lyrics\\nYo mic check, mic check, yeah h...          0.041   \n",
              "21743  2019  R.I.P. Lyrics\\nR.I.P we just killed the club\\n...          0.193   \n",
              "\n",
              "       neu_sentiment  pos_sentiment  com_sentiment  polarity  textblob_pol  \n",
              "0              0.879          0.032        -0.7506       0.0           1.0  \n",
              "1              0.772          0.118         0.2732       1.0           1.0  \n",
              "2              0.747          0.224         0.9807       1.0           1.0  \n",
              "3              0.920          0.042         0.0112       0.0           1.0  \n",
              "4              0.702          0.224         0.9835       1.0           1.0  \n",
              "...              ...            ...            ...       ...           ...  \n",
              "21739          0.807          0.059        -0.9936       0.0           1.0  \n",
              "21740          0.730          0.090        -0.9972       0.0           0.0  \n",
              "21741          0.782          0.117        -0.7261       0.0           1.0  \n",
              "21742          0.888          0.071         0.9630       1.0           1.0  \n",
              "21743          0.762          0.046        -0.9984       0.0           1.0  \n",
              "\n",
              "[21744 rows x 11 columns]"
            ]
          },
          "execution_count": 2,
          "metadata": {},
          "output_type": "execute_result"
        }
      ],
      "source": [
        "import pandas as pd\n",
        "\n",
        "df = pd.read_csv('./full_lyrics_polarity_dataset.csv')\n",
        "df"
      ]
    },
    {
      "cell_type": "code",
      "execution_count": null,
      "metadata": {
        "colab": {
          "base_uri": "https://localhost:8080/"
        },
        "id": "P__N2U-8XkNI",
        "outputId": "8f9a2f7c-c661-42b1-c37c-5310c7f86cd5"
      },
      "outputs": [
        {
          "data": {
            "text/plain": [
              "(16308,)"
            ]
          },
          "execution_count": 3,
          "metadata": {},
          "output_type": "execute_result"
        }
      ],
      "source": [
        "from sklearn.model_selection import train_test_split\n",
        "\n",
        "X_train, X_test, y_train, y_test = train_test_split(df['lyrics'], df['polarity'], test_size = 0.25, random_state = 32)\n",
        "X_train.shape"
      ]
    },
    {
      "cell_type": "markdown",
      "metadata": {
        "id": "jieUV98SY8vh"
      },
      "source": [
        "# lyrics 토큰화\n",
        "\n",
        "HuggingFace의 transformers 라이브러리를 활용하였다. \n",
        "\n",
        "BertTokenizer를 사용하는 이유는 문맥을 이해하는데 도움을 주기 때문인 것이다. 그렇기 때문에 가사도 토큰화한 데이터셋이 아닌 원본 가사 데이터셋을 사용한 것이다. \n",
        "\n",
        "하나의 가사에서 _[CLS] 한 문장 [SEP] 다음 문장 [SEP] ,,, [SEP]_ 으로 쪼갠 후 리스트에 넣는다. 이 리스트를 train_lyrics 리스트에 넣는다. :: train_lyrics 리스트에는 하나의 가사가 리스트 형태로 있는 2차원 리스트이다. \n",
        "\n",
        "이렇게 쪼갠 다음 가사 별로 tokenizer를 활용하여 단어 단위로 쪼갠다. \n",
        "\n",
        "<br/>\n",
        "\n",
        "BertTokenizer의 tokenizer 같은 경우는 encode_plus 메소드를 통해서 BERT에 맞게 태그를 추가할 수 있는 프롭이 있다. 하지만 가사의 경우는 \".\" 으로 문장을 구분하는 것이 아닌 \"\\n\" 으로 구분하므로 태그들을 각 문장별로 넣어주기 위해서는 따로 처리해주어야 할 필요가 있었다. "
      ]
    },
    {
      "cell_type": "markdown",
      "metadata": {
        "id": "6l1nhI_0LB9H"
      },
      "source": [
        "### input set"
      ]
    },
    {
      "cell_type": "code",
      "execution_count": null,
      "metadata": {
        "id": "u7WtEYCrY8C6"
      },
      "outputs": [],
      "source": [
        "from transformers import BertTokenizer\n",
        "\n",
        "# BERT에 맞는 Tag 달아주기\n",
        "train_lyrics = []\n",
        "test_lyrics = []\n",
        "\n",
        "for i in X_train:\n",
        "  one = []\n",
        "  start = \"[CLS] \" + str(i)\n",
        "  split_lyrics = \" [SEP]\".join(start.split('\\n'))\n",
        "  split_lyrics += \" [SEP]\"\n",
        "  one.append(split_lyrics)\n",
        "  train_lyrics.append(one)\n",
        "\n",
        "for i in X_test:\n",
        "  one = []\n",
        "  start = \"[CLS] \" + str(i)\n",
        "  split_lyrics = \" [SEP]\".join(start.split('\\n'))\n",
        "  split_lyrics += \" [SEP]\"\n",
        "  one.append(split_lyrics)\n",
        "  test_lyrics.append(one)\n"
      ]
    },
    {
      "cell_type": "code",
      "execution_count": null,
      "metadata": {
        "id": "ptE3f5zueoHq"
      },
      "outputs": [],
      "source": [
        "tokenizer = BertTokenizer.from_pretrained('bert-base-multilingual-cased', do_lower_case=True)\n",
        "'''bert-base-multilingual-cased''' \n",
        "'''bert-base-uncased''' \n",
        "tokenized_data = []\n",
        "\n",
        "# 2차원 리스트로 태그를 달아주었으므로 2중 for 문 사용해서 가사에 접근\n",
        "for each_lyrics in train_lyrics:\n",
        "  for j in each_lyrics:\n",
        "    tokens = tokenizer.tokenize(j)\n",
        "    tokenized_data.append(tokens)\n",
        "\n",
        "\n",
        "tokenized_test_data = []\n",
        "for each_lyrics in test_lyrics:\n",
        "  for j in each_lyrics:\n",
        "    tokens = tokenizer.tokenize(j)\n",
        "    tokenized_test_data.append(tokens)"
      ]
    },
    {
      "cell_type": "markdown",
      "metadata": {
        "id": "igCwphJMLK5E"
      },
      "source": [
        "### target set"
      ]
    },
    {
      "cell_type": "code",
      "execution_count": null,
      "metadata": {
        "id": "zf9xFDiDK-69"
      },
      "outputs": [],
      "source": [
        "y_train_list = y_train.to_list()\n",
        "y_test_list = y_test.to_list()"
      ]
    },
    {
      "cell_type": "markdown",
      "metadata": {
        "id": "8CTS85irw4ga"
      },
      "source": [
        "# Modeling\n",
        "\n",
        "input data와 target data를 BERT 모델에 적합하게 데이터 모양을 바꾸어 준다. \n",
        "\n",
        "BatchEncoding은 tokenizer의 인코딩 메서드인 encode_plus를 가지고 있으며 dict 형태로 리턴한다. "
      ]
    },
    {
      "cell_type": "code",
      "execution_count": null,
      "metadata": {
        "id": "bmIwQMSHud4c"
      },
      "outputs": [],
      "source": [
        "import tensorflow_datasets as tfds\n",
        "import tensorflow as tf\n",
        "import torch\n",
        "\n",
        "def convert_example_to_feature(review):\n",
        "  return tokenizer.encode_plus(review,\n",
        "                add_special_tokens = False, # add [CLS], [SEP]\n",
        "                max_length = 256, # max length of the text that can go to BERT\n",
        "                pad_to_max_length = True, # add [PAD] tokens\n",
        "                return_attention_mask = True, # add attention mask to not focus on pad tokens\n",
        "              )\n",
        "  \n",
        "def map_example_to_dict(input_ids, attention_masks, token_type_ids, label):\n",
        "  return {\n",
        "      \"input_ids\": input_ids,\n",
        "      \"token_type_ids\": token_type_ids,\n",
        "      \"attention_mask\": attention_masks,\n",
        "  }, label\n",
        "\n",
        "def encode_examples(data):\n",
        "  # prepare list, so that we can build up final TensorFlow dataset from slices.\n",
        "  input_ids_list = []\n",
        "  token_type_ids_list = []\n",
        "  attention_mask_list = []\n",
        "  target_list = []\n",
        "  \n",
        "  for DATA_COL, LABEL_COL in data.to_numpy():\n",
        "    bert_input = convert_example_to_feature(DATA_COL)\n",
        "    input_ids_list.append(bert_input['input_ids'])\n",
        "    token_type_ids_list.append(bert_input['token_type_ids'])\n",
        "    attention_mask_list.append(bert_input['attention_mask'])\n",
        "    target_list.append([LABEL_COL])\n",
        "  return tf.data.Dataset.from_tensor_slices((input_ids_list, attention_mask_list, token_type_ids_list, target_list)).map(map_example_to_dict)"
      ]
    },
    {
      "cell_type": "code",
      "execution_count": null,
      "metadata": {
        "id": "xuJ4giBG8QSL"
      },
      "outputs": [],
      "source": [
        "train = pd.DataFrame({'DATA_COL' : tokenized_data, 'LABEL_COL' : y_train_list})\n",
        "test = pd.DataFrame({'DATA_COL' : tokenized_test_data, 'LABEL_COL' : y_test_list})"
      ]
    },
    {
      "cell_type": "code",
      "execution_count": null,
      "metadata": {
        "id": "irZIGH2oyo9W"
      },
      "outputs": [],
      "source": [
        "# train dataset\n",
        "train_encoded = encode_examples(train).shuffle(100).batch(16)\n",
        "# test dataset\n",
        "test_encoded = encode_examples(test).batch(16)"
      ]
    },
    {
      "cell_type": "markdown",
      "metadata": {
        "id": "Dp47dF5s7ZEc"
      },
      "source": [
        "### Initialize Model"
      ]
    },
    {
      "cell_type": "code",
      "execution_count": null,
      "metadata": {
        "colab": {
          "base_uri": "https://localhost:8080/",
          "height": 124,
          "referenced_widgets": [
            "a9e1e7f98ef54390a4aa902f3f20d5ae",
            "1d9156272b944c3b8617afeb5060a345",
            "066776b4c20b40ddbda816187a2a2b78",
            "78cc3afff58f46f68add295ef4ce7293",
            "5595946acb1f4742ba4672d7707a0ae3",
            "31d2ae87c03e4dcb8ceffea4d41732eb",
            "f0e7ffb1754e42f68e67149b08c20a06",
            "9f0dbd50eaf14268a7ef71eb7a058573",
            "e7cd529c0ec244849e1e7c7522ba9ab0",
            "5432f00245424373871bef12ee9a4453",
            "6fff544511d842bcbc539eb388dd387f"
          ]
        },
        "id": "Nb-vRfr_RaVh",
        "outputId": "0954cf00-0c9e-498b-db37-ce56bf4da7ff"
      },
      "outputs": [
        {
          "data": {
            "application/vnd.jupyter.widget-view+json": {
              "model_id": "a9e1e7f98ef54390a4aa902f3f20d5ae",
              "version_major": 2,
              "version_minor": 0
            },
            "text/plain": [
              "Downloading tf_model.h5:   0%|          | 0.00/1.01G [00:00<?, ?B/s]"
            ]
          },
          "metadata": {},
          "output_type": "display_data"
        },
        {
          "name": "stderr",
          "output_type": "stream",
          "text": [
            "All model checkpoint layers were used when initializing TFBertForSequenceClassification.\n",
            "\n",
            "Some layers of TFBertForSequenceClassification were not initialized from the model checkpoint at bert-base-multilingual-cased and are newly initialized: ['classifier']\n",
            "You should probably TRAIN this model on a down-stream task to be able to use it for predictions and inference.\n"
          ]
        }
      ],
      "source": [
        "from transformers import TFBertForSequenceClassification\n",
        "import tensorflow as tf\n",
        "# recommended learning rate for Adam 5e-5, 3e-5, 2e-5\n",
        "learning_rate = 2e-5\n",
        "# we will do just 1 epoch, though multiple epochs might be better as long as we will not overfit the model\n",
        "number_of_epochs = 3\n",
        "# model initialization\n",
        "model = TFBertForSequenceClassification.from_pretrained('bert-base-multilingual-cased')"
      ]
    },
    {
      "cell_type": "code",
      "execution_count": null,
      "metadata": {
        "id": "_qbJ2rIHRlvS"
      },
      "outputs": [],
      "source": [
        "# choosing Adam optimizer\n",
        "optimizer = tf.keras.optimizers.Adam(learning_rate=learning_rate, epsilon=1e-08)\n",
        "# we do not have one-hot vectors, we can use sparce categorical cross entropy and accuracy\n",
        "loss = tf.keras.losses.SparseCategoricalCrossentropy(from_logits=True)\n",
        "metric = tf.keras.metrics.SparseCategoricalAccuracy('accuracy')\n",
        "model.compile(optimizer=optimizer, loss=loss, metrics=[metric])"
      ]
    },
    {
      "cell_type": "code",
      "execution_count": null,
      "metadata": {
        "colab": {
          "base_uri": "https://localhost:8080/"
        },
        "id": "YCd7w4pdRsZ7",
        "outputId": "fbbfb16b-904d-4202-f705-58b5d756d6b0"
      },
      "outputs": [
        {
          "name": "stdout",
          "output_type": "stream",
          "text": [
            "Epoch 1/3\n",
            "1020/1020 [==============================] - 1050s 1s/step - loss: 0.5040 - accuracy: 0.7483 - val_loss: 0.4533 - val_accuracy: 0.7975\n",
            "Epoch 2/3\n",
            "1020/1020 [==============================] - 1024s 1s/step - loss: 0.3648 - accuracy: 0.8360 - val_loss: 0.3790 - val_accuracy: 0.8326\n",
            "Epoch 3/3\n",
            "1020/1020 [==============================] - 1025s 1s/step - loss: 0.2689 - accuracy: 0.8896 - val_loss: 0.3668 - val_accuracy: 0.8438\n"
          ]
        },
        {
          "data": {
            "text/plain": [
              "<keras.callbacks.History at 0x7febee42c2d0>"
            ]
          },
          "execution_count": 18,
          "metadata": {},
          "output_type": "execute_result"
        }
      ],
      "source": [
        "import torch, gc\n",
        "gc.collect()\n",
        "torch.cuda.empty_cache()\n",
        "\n",
        "model.fit(train_encoded, epochs=number_of_epochs, validation_data=test_encoded)"
      ]
    },
    {
      "cell_type": "markdown",
      "metadata": {
        "id": "ymwB3CY9RqI3"
      },
      "source": [
        "# Model Predict"
      ]
    },
    {
      "cell_type": "code",
      "execution_count": null,
      "metadata": {
        "id": "KcHdwsvYaFC6"
      },
      "outputs": [],
      "source": [
        "def model_predict(test_sentence):\n",
        "  predict_input = tokenizer.encode(test_sentence, truncation=True, padding=True, return_tensors=\"tf\")\n",
        "  tf_output = model.predict(predict_input)[0]\n",
        "  tf_prediction = tf.nn.softmax(tf_output, axis=1)\n",
        "  labels = ['Negative','Positive'] # (0: negative, 1: positive)\n",
        "  label = tf.argmax(tf_prediction, axis=1)\n",
        "  label = label.numpy()\n",
        "  tf_prediction = tf_prediction.numpy()\n",
        "\n",
        "  print(test_sentence, \":: \", \"{:.2f}%\".format(abs(tf_prediction.take(label[0])) * 100), labels[label[0]])"
      ]
    },
    {
      "cell_type": "code",
      "execution_count": null,
      "metadata": {
        "colab": {
          "base_uri": "https://localhost:8080/"
        },
        "id": "zx_ckqBO_zBU",
        "outputId": "f9bdba93-1774-44a0-c6dd-11ee7ff7d62b"
      },
      "outputs": [
        {
          "name": "stdout",
          "output_type": "stream",
          "text": [
            "\n",
            "There once was a king named Midas who did a good deed for a Satyr. \n",
            "And he was then granted a wish by Dionysus, the god of wine.\n",
            "For his wish, Midas asked that whatever he touched would turn to gold. \n",
            "Despite Dionysus’ efforts to prevent it, Midas pleaded that this was a fantastic wish, and so, it was bestowed.\n",
            "Excited about his newly-earned powers, Midas started touching all kinds of things, turning each item into pure gold.\n",
            " ::  96.57% Positive\n",
            "\n",
            "But soon, Midas became hungry. As he picked up a piece of food, he found he couldn’t eat it. It had turned to gold in his hand.\n",
            "Hungry, Midas groaned, “I’ll starve! Perhaps this was not such an excellent wish after all!”\n",
            "Seeing his dismay, Midas’ beloved daughter threw her arms around him to comfort him, and she, too, turned to gold. “The golden touch is no blessing,” Midas cried.\n",
            " ::  55.15% Negative\n"
          ]
        }
      ],
      "source": [
        "test_sentence_1 = '''\n",
        "There once was a king named Midas who did a good deed for a Satyr. \n",
        "And he was then granted a wish by Dionysus, the god of wine.\n",
        "For his wish, Midas asked that whatever he touched would turn to gold. \n",
        "Despite Dionysus’ efforts to prevent it, Midas pleaded that this was a fantastic wish, and so, it was bestowed.\n",
        "Excited about his newly-earned powers, Midas started touching all kinds of things, turning each item into pure gold.\n",
        "'''\n",
        "model_predict(test_sentence_1)\n",
        "\n",
        "test_sentence_2 = '''\n",
        "But soon, Midas became hungry. As he picked up a piece of food, he found he couldn’t eat it. It had turned to gold in his hand.\n",
        "Hungry, Midas groaned, “I’ll starve! Perhaps this was not such an excellent wish after all!”\n",
        "Seeing his dismay, Midas’ beloved daughter threw her arms around him to comfort him, and she, too, turned to gold. “The golden touch is no blessing,” Midas cried.\n",
        "'''\n",
        "model_predict(test_sentence_2)\n"
      ]
    },
    {
      "cell_type": "code",
      "execution_count": null,
      "metadata": {
        "colab": {
          "base_uri": "https://localhost:8080/"
        },
        "id": "HAUEO8YN_brI",
        "outputId": "905c5c58-696f-45a3-b299-3d853de142c0"
      },
      "outputs": [
        {
          "name": "stdout",
          "output_type": "stream",
          "text": [
            "\n",
            "And I know we weren't perfect\n",
            "But I've never felt this way for no one, oh\n",
            "And I just can't imagine how you could be so okay now that I'm gone\n",
            "I guess you didn't mean what you wrote in that song about me\n",
            "'Cause you said forever, now I drive alone past your street\n",
            " ::  53.11% Positive\n"
          ]
        }
      ],
      "source": [
        "lyrics = '''\n",
        "And I know we weren't perfect\n",
        "But I've never felt this way for no one, oh\n",
        "And I just can't imagine how you could be so okay now that I'm gone\n",
        "I guess you didn't mean what you wrote in that song about me\n",
        "'Cause you said forever, now I drive alone past your street\n",
        "'''\n",
        "model_predict(lyrics)"
      ]
    },
    {
      "cell_type": "code",
      "execution_count": null,
      "metadata": {
        "id": "-yDaUm6E_Oli"
      },
      "outputs": [],
      "source": []
    }
  ],
  "metadata": {
    "accelerator": "GPU",
    "colab": {
      "collapsed_sections": [],
      "include_colab_link": true,
      "provenance": []
    },
    "gpuClass": "standard",
    "kernelspec": {
      "display_name": "Python 3.10.5 64-bit",
      "language": "python",
      "name": "python3"
    },
    "language_info": {
      "name": "python",
      "version": "3.10.5"
    },
    "vscode": {
      "interpreter": {
        "hash": "35e0334895c7257ffa902a82750dbe09ec85e290cbc1321a3819ebf1c9410545"
      }
    },
    "widgets": {
      "application/vnd.jupyter.widget-state+json": {
        "066776b4c20b40ddbda816187a2a2b78": {
          "model_module": "@jupyter-widgets/controls",
          "model_module_version": "1.5.0",
          "model_name": "FloatProgressModel",
          "state": {
            "_dom_classes": [],
            "_model_module": "@jupyter-widgets/controls",
            "_model_module_version": "1.5.0",
            "_model_name": "FloatProgressModel",
            "_view_count": null,
            "_view_module": "@jupyter-widgets/controls",
            "_view_module_version": "1.5.0",
            "_view_name": "ProgressView",
            "bar_style": "success",
            "description": "",
            "description_tooltip": null,
            "layout": "IPY_MODEL_9f0dbd50eaf14268a7ef71eb7a058573",
            "max": 1083389348,
            "min": 0,
            "orientation": "horizontal",
            "style": "IPY_MODEL_e7cd529c0ec244849e1e7c7522ba9ab0",
            "value": 1083389348
          }
        },
        "1d9156272b944c3b8617afeb5060a345": {
          "model_module": "@jupyter-widgets/controls",
          "model_module_version": "1.5.0",
          "model_name": "HTMLModel",
          "state": {
            "_dom_classes": [],
            "_model_module": "@jupyter-widgets/controls",
            "_model_module_version": "1.5.0",
            "_model_name": "HTMLModel",
            "_view_count": null,
            "_view_module": "@jupyter-widgets/controls",
            "_view_module_version": "1.5.0",
            "_view_name": "HTMLView",
            "description": "",
            "description_tooltip": null,
            "layout": "IPY_MODEL_31d2ae87c03e4dcb8ceffea4d41732eb",
            "placeholder": "​",
            "style": "IPY_MODEL_f0e7ffb1754e42f68e67149b08c20a06",
            "value": "Downloading tf_model.h5: 100%"
          }
        },
        "31d2ae87c03e4dcb8ceffea4d41732eb": {
          "model_module": "@jupyter-widgets/base",
          "model_module_version": "1.2.0",
          "model_name": "LayoutModel",
          "state": {
            "_model_module": "@jupyter-widgets/base",
            "_model_module_version": "1.2.0",
            "_model_name": "LayoutModel",
            "_view_count": null,
            "_view_module": "@jupyter-widgets/base",
            "_view_module_version": "1.2.0",
            "_view_name": "LayoutView",
            "align_content": null,
            "align_items": null,
            "align_self": null,
            "border": null,
            "bottom": null,
            "display": null,
            "flex": null,
            "flex_flow": null,
            "grid_area": null,
            "grid_auto_columns": null,
            "grid_auto_flow": null,
            "grid_auto_rows": null,
            "grid_column": null,
            "grid_gap": null,
            "grid_row": null,
            "grid_template_areas": null,
            "grid_template_columns": null,
            "grid_template_rows": null,
            "height": null,
            "justify_content": null,
            "justify_items": null,
            "left": null,
            "margin": null,
            "max_height": null,
            "max_width": null,
            "min_height": null,
            "min_width": null,
            "object_fit": null,
            "object_position": null,
            "order": null,
            "overflow": null,
            "overflow_x": null,
            "overflow_y": null,
            "padding": null,
            "right": null,
            "top": null,
            "visibility": null,
            "width": null
          }
        },
        "5432f00245424373871bef12ee9a4453": {
          "model_module": "@jupyter-widgets/base",
          "model_module_version": "1.2.0",
          "model_name": "LayoutModel",
          "state": {
            "_model_module": "@jupyter-widgets/base",
            "_model_module_version": "1.2.0",
            "_model_name": "LayoutModel",
            "_view_count": null,
            "_view_module": "@jupyter-widgets/base",
            "_view_module_version": "1.2.0",
            "_view_name": "LayoutView",
            "align_content": null,
            "align_items": null,
            "align_self": null,
            "border": null,
            "bottom": null,
            "display": null,
            "flex": null,
            "flex_flow": null,
            "grid_area": null,
            "grid_auto_columns": null,
            "grid_auto_flow": null,
            "grid_auto_rows": null,
            "grid_column": null,
            "grid_gap": null,
            "grid_row": null,
            "grid_template_areas": null,
            "grid_template_columns": null,
            "grid_template_rows": null,
            "height": null,
            "justify_content": null,
            "justify_items": null,
            "left": null,
            "margin": null,
            "max_height": null,
            "max_width": null,
            "min_height": null,
            "min_width": null,
            "object_fit": null,
            "object_position": null,
            "order": null,
            "overflow": null,
            "overflow_x": null,
            "overflow_y": null,
            "padding": null,
            "right": null,
            "top": null,
            "visibility": null,
            "width": null
          }
        },
        "5595946acb1f4742ba4672d7707a0ae3": {
          "model_module": "@jupyter-widgets/base",
          "model_module_version": "1.2.0",
          "model_name": "LayoutModel",
          "state": {
            "_model_module": "@jupyter-widgets/base",
            "_model_module_version": "1.2.0",
            "_model_name": "LayoutModel",
            "_view_count": null,
            "_view_module": "@jupyter-widgets/base",
            "_view_module_version": "1.2.0",
            "_view_name": "LayoutView",
            "align_content": null,
            "align_items": null,
            "align_self": null,
            "border": null,
            "bottom": null,
            "display": null,
            "flex": null,
            "flex_flow": null,
            "grid_area": null,
            "grid_auto_columns": null,
            "grid_auto_flow": null,
            "grid_auto_rows": null,
            "grid_column": null,
            "grid_gap": null,
            "grid_row": null,
            "grid_template_areas": null,
            "grid_template_columns": null,
            "grid_template_rows": null,
            "height": null,
            "justify_content": null,
            "justify_items": null,
            "left": null,
            "margin": null,
            "max_height": null,
            "max_width": null,
            "min_height": null,
            "min_width": null,
            "object_fit": null,
            "object_position": null,
            "order": null,
            "overflow": null,
            "overflow_x": null,
            "overflow_y": null,
            "padding": null,
            "right": null,
            "top": null,
            "visibility": null,
            "width": null
          }
        },
        "6fff544511d842bcbc539eb388dd387f": {
          "model_module": "@jupyter-widgets/controls",
          "model_module_version": "1.5.0",
          "model_name": "DescriptionStyleModel",
          "state": {
            "_model_module": "@jupyter-widgets/controls",
            "_model_module_version": "1.5.0",
            "_model_name": "DescriptionStyleModel",
            "_view_count": null,
            "_view_module": "@jupyter-widgets/base",
            "_view_module_version": "1.2.0",
            "_view_name": "StyleView",
            "description_width": ""
          }
        },
        "78cc3afff58f46f68add295ef4ce7293": {
          "model_module": "@jupyter-widgets/controls",
          "model_module_version": "1.5.0",
          "model_name": "HTMLModel",
          "state": {
            "_dom_classes": [],
            "_model_module": "@jupyter-widgets/controls",
            "_model_module_version": "1.5.0",
            "_model_name": "HTMLModel",
            "_view_count": null,
            "_view_module": "@jupyter-widgets/controls",
            "_view_module_version": "1.5.0",
            "_view_name": "HTMLView",
            "description": "",
            "description_tooltip": null,
            "layout": "IPY_MODEL_5432f00245424373871bef12ee9a4453",
            "placeholder": "​",
            "style": "IPY_MODEL_6fff544511d842bcbc539eb388dd387f",
            "value": " 1.01G/1.01G [00:33&lt;00:00, 20.4MB/s]"
          }
        },
        "9f0dbd50eaf14268a7ef71eb7a058573": {
          "model_module": "@jupyter-widgets/base",
          "model_module_version": "1.2.0",
          "model_name": "LayoutModel",
          "state": {
            "_model_module": "@jupyter-widgets/base",
            "_model_module_version": "1.2.0",
            "_model_name": "LayoutModel",
            "_view_count": null,
            "_view_module": "@jupyter-widgets/base",
            "_view_module_version": "1.2.0",
            "_view_name": "LayoutView",
            "align_content": null,
            "align_items": null,
            "align_self": null,
            "border": null,
            "bottom": null,
            "display": null,
            "flex": null,
            "flex_flow": null,
            "grid_area": null,
            "grid_auto_columns": null,
            "grid_auto_flow": null,
            "grid_auto_rows": null,
            "grid_column": null,
            "grid_gap": null,
            "grid_row": null,
            "grid_template_areas": null,
            "grid_template_columns": null,
            "grid_template_rows": null,
            "height": null,
            "justify_content": null,
            "justify_items": null,
            "left": null,
            "margin": null,
            "max_height": null,
            "max_width": null,
            "min_height": null,
            "min_width": null,
            "object_fit": null,
            "object_position": null,
            "order": null,
            "overflow": null,
            "overflow_x": null,
            "overflow_y": null,
            "padding": null,
            "right": null,
            "top": null,
            "visibility": null,
            "width": null
          }
        },
        "a9e1e7f98ef54390a4aa902f3f20d5ae": {
          "model_module": "@jupyter-widgets/controls",
          "model_module_version": "1.5.0",
          "model_name": "HBoxModel",
          "state": {
            "_dom_classes": [],
            "_model_module": "@jupyter-widgets/controls",
            "_model_module_version": "1.5.0",
            "_model_name": "HBoxModel",
            "_view_count": null,
            "_view_module": "@jupyter-widgets/controls",
            "_view_module_version": "1.5.0",
            "_view_name": "HBoxView",
            "box_style": "",
            "children": [
              "IPY_MODEL_1d9156272b944c3b8617afeb5060a345",
              "IPY_MODEL_066776b4c20b40ddbda816187a2a2b78",
              "IPY_MODEL_78cc3afff58f46f68add295ef4ce7293"
            ],
            "layout": "IPY_MODEL_5595946acb1f4742ba4672d7707a0ae3"
          }
        },
        "e7cd529c0ec244849e1e7c7522ba9ab0": {
          "model_module": "@jupyter-widgets/controls",
          "model_module_version": "1.5.0",
          "model_name": "ProgressStyleModel",
          "state": {
            "_model_module": "@jupyter-widgets/controls",
            "_model_module_version": "1.5.0",
            "_model_name": "ProgressStyleModel",
            "_view_count": null,
            "_view_module": "@jupyter-widgets/base",
            "_view_module_version": "1.2.0",
            "_view_name": "StyleView",
            "bar_color": null,
            "description_width": ""
          }
        },
        "f0e7ffb1754e42f68e67149b08c20a06": {
          "model_module": "@jupyter-widgets/controls",
          "model_module_version": "1.5.0",
          "model_name": "DescriptionStyleModel",
          "state": {
            "_model_module": "@jupyter-widgets/controls",
            "_model_module_version": "1.5.0",
            "_model_name": "DescriptionStyleModel",
            "_view_count": null,
            "_view_module": "@jupyter-widgets/base",
            "_view_module_version": "1.2.0",
            "_view_name": "StyleView",
            "description_width": ""
          }
        }
      }
    }
  },
  "nbformat": 4,
  "nbformat_minor": 0
}
